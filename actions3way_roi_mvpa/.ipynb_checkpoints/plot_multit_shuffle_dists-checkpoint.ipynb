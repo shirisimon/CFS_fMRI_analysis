{
 "cells": [
  {
   "cell_type": "code",
   "execution_count": 1,
   "metadata": {
    "collapsed": true
   },
   "outputs": [],
   "source": [
    "% matplotlib inline\n",
    "import matplotlib.pylab as plt\n",
    "\n",
    "import numpy as np\n",
    "import preprocessing as prp\n",
    "import configuration as cfg\n",
    "import csv\n",
    "import time\n",
    "import winsound\n",
    "from termcolor import colored"
   ]
  },
  {
   "cell_type": "code",
   "execution_count": null,
   "metadata": {
    "collapsed": false
   },
   "outputs": [
    {
     "name": "stdout",
     "output_type": "stream",
     "text": [
      "process voi 01 | sub 01\n",
      "process voi 01 | sub 02\n",
      "process voi 01 | sub 03\n",
      "process voi 01 | sub 04\n",
      "process voi 01 | sub 05\n",
      "process voi 01 | sub 06\n",
      "process voi 01 | sub 07\n",
      "process voi 01 | sub 08\n",
      "process voi 01 | sub 09\n",
      "process voi 01 | sub 10\n",
      "process voi 01 | sub 11\n",
      "process voi 01 | sub 12\n",
      "process voi 01 | sub 13\n",
      "process voi 01 | sub 14\n",
      "process voi 01 | sub 15\n",
      "\u001b[36mdone process voi 00 in 26s\u001b[0m\n"
     ]
    },
    {
     "data": {
      "image/png": "[encoded data removed]",
      "text/plain": [
       "<matplotlib.figure.Figure at 0x34db320>"
      ]
     },
     "metadata": {},
     "output_type": "display_data"
    },
    {
     "name": "stdout",
     "output_type": "stream",
     "text": [
      "process voi 02 | sub 01\n",
      "X features_num was reduced by additional 4 features\n",
      "process voi 02 | sub 02\n",
      "X features_num was reduced by additional 6 features\n",
      "process voi 02 | sub 03\n",
      "X features_num was reduced by additional 15 features\n",
      "process voi 02 | sub 04\n",
      "process voi 02 | sub 05\n",
      "X features_num was reduced by additional 19 features\n",
      "process voi 02 | sub 06\n",
      "process voi 02 | sub 07\n",
      "process voi 02 | sub 08\n",
      "X features_num was reduced by additional 15 features\n",
      "process voi 02 | sub 09\n",
      "process voi 02 | sub 10\n",
      "process voi 02 | sub 11\n",
      "process voi 02 | sub 12\n",
      "X features_num was reduced by additional 20 features\n",
      "process voi 02 | sub 13\n",
      "X features_num was reduced by additional 11 features\n",
      "process voi 02 | sub 14\n",
      "X features_num was reduced by additional 5 features\n",
      "process voi 02 | sub 15\n",
      "\u001b[36mdone process voi 01 in 51s\u001b[0m\n"
     ]
    },
    {
     "name": "stderr",
     "output_type": "stream",
     "text": [
      "C:\\Users\\Shiri\\Anaconda\\lib\\site-packages\\sklearn\\decomposition\\kernel_pca.py:249: RuntimeWarning: invalid value encountered in sqrt\n",
      "  return np.dot(K, self.alphas_ / np.sqrt(self.lambdas_))\n"
     ]
    },
    {
     "data": {
      "image/png": "[encoded data removed]",
      "text/plain": [
       "<matplotlib.figure.Figure at 0x1a4afb38>"
      ]
     },
     "metadata": {},
     "output_type": "display_data"
    },
    {
     "name": "stdout",
     "output_type": "stream",
     "text": [
      "process voi 03 | sub 01\n",
      "process voi 03 | sub 02\n",
      "X features_num was reduced by additional 13 features\n",
      "process voi 03 | sub 03\n",
      "process voi 03 | sub 04\n",
      "process voi 03 | sub 05\n",
      "process voi 03 | sub 06\n",
      "process voi 03 | sub 07\n",
      "X features_num was reduced by additional 7 features\n",
      "process voi 03 | sub 08\n",
      "process voi 03 | sub 09\n",
      "process voi 03 | sub 10\n",
      "X features_num was reduced by additional 7 features\n",
      "process voi 03 | sub 11\n",
      "process voi 03 | sub 12\n",
      "process voi 03 | sub 13\n",
      "process voi 03 | sub 14\n",
      "process voi 03 | sub 15\n",
      "X features_num was reduced by additional 13 features\n",
      "\u001b[36mdone process voi 02 in 76s\u001b[0m\n"
     ]
    },
    {
     "data": {
      "image/png": "[encoded data removed]",
      "text/plain": [
       "<matplotlib.figure.Figure at 0x1d17dc88>"
      ]
     },
     "metadata": {},
     "output_type": "display_data"
    },
    {
     "name": "stdout",
     "output_type": "stream",
     "text": [
      "process voi 04 | sub 01\n",
      "X features_num was reduced by additional 19 features\n",
      "process voi 04 | sub 02\n",
      "X features_num was reduced by additional 20 features\n",
      "process voi 04 | sub 03\n",
      "process voi 04 | sub 04\n",
      "X features_num was reduced by additional 22 features\n",
      "process voi 04 | sub 05\n",
      "X features_num was reduced by additional 18 features\n",
      "process voi 04 | sub 06\n",
      "X features_num was reduced by additional 18 features\n",
      "process voi 04 | sub 07"
     ]
    }
   ],
   "source": [
    "def sub_analysis(voi, subs, sub_data_generator):\n",
    "    for sub in subs:\n",
    "        print(\"process voi {:02.0f} | sub {:02.0f}\".format(voi+1, sub+1))\n",
    "        X, y, _, _, pipe = sub_data_generator.next()\n",
    "        X = prep.convert(pipe, X)\n",
    "        treal = mult.multit_real(X,y)\n",
    "        if np.isnan(treal):\n",
    "            raise Warning(\"treal is nan\")\n",
    "        tshuffle_perms = mult.multit_shuffle(X,y, n_perms=100)\n",
    "        pval = mult.calc_pval(treal, tshuffle_perms)\n",
    "        yield treal, tshuffle_perms, pval\n",
    "\n",
    "def voi_analysis(vois, subs):\n",
    "    for voi in vois:\n",
    "        sub_data_generator = prep.get_sub_data(voi)\n",
    "        treals, tshuffles_perms, sub_pvals = zip(*sub_analysis(voi, subs, sub_data_generator))\n",
    "        print colored (\"done process voi {:02.0f} in {:02.0f}s\".format(voi, time.time()-t), 'cyan')\n",
    "        group_treal = np.mean(treals)\n",
    "        group_tshuffle = mult.tshuffle_bootstrap(tshuffles_perms, n_perms=100) \n",
    "        plot_dist(group_treal, group_tshuffle)\n",
    "        group_pval = mult.calc_pval(group_treal, group_tshuffle)\n",
    "        yield sub_pvals, group_pval\n",
    "\n",
    "def save_as_csv(filename, var):\n",
    "    with open(filename, 'w+') as result:\n",
    "        writer = csv.writer(result, dialect='excel')\n",
    "        writer.writerows(var)\n",
    "\n",
    "def termination_alert():\n",
    "    for i in range(3):\n",
    "        winsound.Beep(1500,250)\n",
    "        time.sleep(0.1)\n",
    "        winsound.Beep(1500,250)\n",
    "        \n",
    "def plot_dist(treal, tshuffle):\n",
    "    plt.hist(tshuffle, 25, alpha=0.75)\n",
    "    plt.plot([treal, treal], [0, 10], 'k-', lw=2)\n",
    "    plt.xlabel('t_stats')\n",
    "    plt.ylabel('Probability')\n",
    "    plt.show()\n",
    "\n",
    "\n",
    "if __name__ == '__main__':\n",
    "    FILE_NAME = 'data2skl_high.mat'\n",
    "    prep = prp.Preprocessing(FILE_NAME)\n",
    "    mult = prp.MultiT()\n",
    "    vois = xrange(prep.voidata.chunks[0]-1)\n",
    "    subs = xrange(len(cfg.Params().sublist))\n",
    "    t = time.time()\n",
    "    if prep.params.collapse_opacities:\n",
    "        pass\n",
    "    else:\n",
    "        sub_pvals, group_pval = zip(*voi_analysis(vois, subs))\n",
    "        termination_alert()\n",
    "        save_as_csv('results_NMH_multit.csv', sub_pvals)\n",
    "        print group_pval"
   ]
  },
  {
   "cell_type": "code",
   "execution_count": null,
   "metadata": {
    "collapsed": true
   },
   "outputs": [],
   "source": []
  }
 ],
 "metadata": {
  "kernelspec": {
   "display_name": "Python 2",
   "language": "python",
   "name": "python2"
  },
  "language_info": {
   "codemirror_mode": {
    "name": "ipython",
    "version": 2
   },
   "file_extension": ".py",
   "mimetype": "text/x-python",
   "name": "python",
   "nbconvert_exporter": "python",
   "pygments_lexer": "ipython2",
   "version": "2.7.11"
  }
 },
 "nbformat": 4,
 "nbformat_minor": 0
}
