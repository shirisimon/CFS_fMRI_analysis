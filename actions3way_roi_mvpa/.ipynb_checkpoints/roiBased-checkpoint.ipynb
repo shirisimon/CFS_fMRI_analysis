{
 "cells": [
  {
   "cell_type": "code",
   "execution_count": 2,
   "metadata": {
    "collapsed": true
   },
   "outputs": [],
   "source": [
    "import numpy as np\n",
    "import preprocessing as prp\n",
    "import configuration as cfg\n",
    "from sklearn.grid_search import GridSearchCV\n",
    "from sklearn.metrics import accuracy_score\n",
    "\n",
    "FILE_NAME = 'data2skl_high.mat'\n",
    "prep = prp.Preprocessing(FILE_NAME)\n",
    "vois = xrange(prep.voidata.chunks[0]-1)\n",
    "subs = xrange(len(cfg.Params().sublist))"
   ]
  },
  {
   "cell_type": "code",
   "execution_count": 29,
   "metadata": {
    "collapsed": false
   },
   "outputs": [
    {
     "name": "stdout",
     "output_type": "stream",
     "text": [
      "process voi: 0\n",
      "process voi: 1\n",
      "process voi: 2\n",
      "process voi: 3\n",
      "process voi: 4\n",
      "process voi: 5\n",
      "process voi: 6\n",
      "process voi: 7\n",
      "process voi: 8\n",
      "process voi: 9\n",
      "process voi: 10\n",
      "process voi: 11\n",
      "process voi: 12\n",
      "process voi: 13\n"
     ]
    }
   ],
   "source": [
    "def voi_analysis(vois, subs):\n",
    "    for voi in vois:\n",
    "        print(\"process voi: %0.0f\" % voi)\n",
    "        sub_data_generator = prep.get_sub_data(voi)\n",
    "        yield zip(*sub_analysis(subs, sub_data_generator))\n",
    "\n",
    "def sub_analysis(subs, sub_data_generator):\n",
    "    for sub in subs:\n",
    "        X, y, _, _, pipe = sub_data_generator.next()\n",
    "        yield np.mean(X, axis=1), y, pipe\n",
    "\n",
    "X, y, pipe = zip(*voi_analysis(vois, subs))"
   ]
  },
  {
   "cell_type": "code",
   "execution_count": 30,
   "metadata": {
    "collapsed": false
   },
   "outputs": [],
   "source": [
    "# concatinate VOIs\n",
    "X_new = []\n",
    "y_new = []\n",
    "for sub in subs:\n",
    "    X_sub = []\n",
    "    y_sub = []\n",
    "    for voi in vois:\n",
    "        X_sub.append(X[voi][sub])\n",
    "        if voi==0:\n",
    "            y_sub.append(y[0][sub])\n",
    "    X_new.append(np.asarray(X_sub).T)\n",
    "    y_new.append(y_sub)"
   ]
  },
  {
   "cell_type": "code",
   "execution_count": 50,
   "metadata": {
    "collapsed": false
   },
   "outputs": [
    {
     "name": "stdout",
     "output_type": "stream",
     "text": [
      "0.611111111111 0.333333333333\n",
      "0.75 0.333333333333\n",
      "0.555555555556 0.333333333333\n",
      "0.5 0.333333333333\n",
      "0.444444444444 0.222222222222\n",
      "0.5 0.555555555556\n",
      "0.333333333333 0.333333333333\n",
      "0.555555555556 0.444444444444\n",
      "0.611111111111 0.222222222222\n",
      "0.388888888889 0.333333333333\n",
      "0.555555555556 0.222222222222\n",
      "0.444444444444 0.444444444444\n",
      "0.333333333333 0.333333333333\n",
      "0.5 0.333333333333\n",
      "0.444444444444 0.333333333333\n"
     ]
    }
   ],
   "source": [
    "# run classification:\n",
    "from sklearn.preprocessing import StandardScaler\n",
    "scaler = StandardScaler()\n",
    "for sub in subs:\n",
    "    X_tr, X_te, y_tr, y_te = prep.stratified_split(X_new[sub], y_new[sub][0], 0)\n",
    "    # train on nmsk:\n",
    "    algo, algo_params, score = prep.params.model\n",
    "    clf = GridSearchCV(algo, algo_params, cv=3, scoring=score, n_jobs=-1, verbose=0)\n",
    "    clf.fit(scaler.fit_transform(X_tr), y_tr)\n",
    "    # test on msk:\n",
    "    y_true, y_pred = y_te, clf.predict(scaler.fit_transform(X_te))\n",
    "    print clf.best_score_, accuracy_score(y_true, y_pred)"
   ]
  },
  {
   "cell_type": "code",
   "execution_count": null,
   "metadata": {
    "collapsed": true
   },
   "outputs": [],
   "source": []
  }
 ],
 "metadata": {
  "kernelspec": {
   "display_name": "Python 2",
   "language": "python",
   "name": "python2"
  },
  "language_info": {
   "codemirror_mode": {
    "name": "ipython",
    "version": 2
   },
   "file_extension": ".py",
   "mimetype": "text/x-python",
   "name": "python",
   "nbconvert_exporter": "python",
   "pygments_lexer": "ipython2",
   "version": "2.7.11"
  }
 },
 "nbformat": 4,
 "nbformat_minor": 0
}
