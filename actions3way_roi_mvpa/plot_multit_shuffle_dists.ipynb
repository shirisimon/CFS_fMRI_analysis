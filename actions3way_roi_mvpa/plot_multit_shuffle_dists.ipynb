{
 "cells": [
  {
   "cell_type": "code",
   "execution_count": 1,
   "metadata": {
    "collapsed": true
   },
   "outputs": [],
   "source": [
    "% matplotlib inline\n",
    "import matplotlib.pylab as plt\n",
    "\n",
    "import numpy as np\n",
    "import preprocessing as prp\n",
    "import configuration as cfg\n",
    "import csv\n",
    "import time\n",
    "import winsound\n",
    "from termcolor import colored"
   ]
  },
  {
   "cell_type": "code",
   "execution_count": 2,
   "metadata": {
    "collapsed": false,
    "scrolled": false
   },
   "outputs": [
    {
     "name": "stdout",
     "output_type": "stream",
     "text": [
      "process voi 01 | sub 01\n",
      "process voi 01 | sub 02\n",
      "process voi 01 | sub 03\n",
      "process voi 01 | sub 04\n",
      "process voi 01 | sub 05\n",
      "process voi 01 | sub 06\n",
      "process voi 01 | sub 07\n",
      "process voi 01 | sub 08\n",
      "process voi 01 | sub 09\n",
      "process voi 01 | sub 10\n",
      "process voi 01 | sub 11\n",
      "process voi 01 | sub 12\n",
      "process voi 01 | sub 13\n",
      "process voi 01 | sub 14\n",
      "process voi 01 | sub 15\n",
      "\u001b[36mdone process voi 00 in 26s\u001b[0m\n"
     ]
    },
    {
     "data": {
      "image/png": "[encoded data removed]",
      "text/plain": [
       "<matplotlib.figure.Figure at 0x9928c88>"
      ]
     },
     "metadata": {},
     "output_type": "display_data"
    },
    {
     "name": "stdout",
     "output_type": "stream",
     "text": [
      "process voi 02 | sub 01\n",
      "process voi 02 | sub 02\n",
      "X features_num was reduced by additional 7 features\n",
      "process voi 02 | sub 03\n",
      "process voi 02 | sub 04\n",
      "process voi 02 | sub 05\n",
      "X features_num was reduced by additional 22 features\n",
      "process voi 02 | sub 06\n",
      "X features_num was reduced by additional 7 features\n",
      "process voi 02 | sub 07\n",
      "process voi 02 | sub 08\n",
      "X features_num was reduced by additional 13 features\n",
      "process voi 02 | sub 09\n",
      "process voi 02 | sub 10\n",
      "X features_num was reduced by additional 15 features\n",
      "process voi 02 | sub 11\n",
      "X features_num was reduced by additional 20 features\n",
      "process voi 02 | sub 12\n",
      "X features_num was reduced by additional 15 features\n",
      "process voi 02 | sub 13\n",
      "process voi 02 | sub 14\n",
      "process voi 02 | sub 15\n",
      "\u001b[36mdone process voi 01 in 51s\u001b[0m\n"
     ]
    },
    {
     "name": "stderr",
     "output_type": "stream",
     "text": [
      "C:\\Users\\Shiri\\Anaconda\\lib\\site-packages\\sklearn\\decomposition\\kernel_pca.py:249: RuntimeWarning: invalid value encountered in sqrt\n",
      "  return np.dot(K, self.alphas_ / np.sqrt(self.lambdas_))\n"
     ]
    },
    {
     "data": {
      "image/png": "[encoded data removed]",
      "text/plain": [
       "<matplotlib.figure.Figure at 0x1a484ac8>"
      ]
     },
     "metadata": {},
     "output_type": "display_data"
    },
    {
     "name": "stdout",
     "output_type": "stream",
     "text": [
      "process voi 03 | sub 01\n",
      "process voi 03 | sub 02\n",
      "process voi 03 | sub 03\n",
      "X features_num was reduced by additional 13 features\n",
      "process voi 03 | sub 04\n",
      "X features_num was reduced by additional 12 features\n",
      "process voi 03 | sub 05\n",
      "X features_num was reduced by additional 15 features\n",
      "process voi 03 | sub 06\n",
      "process voi 03 | sub 07\n",
      "process voi 03 | sub 08\n",
      "X features_num was reduced by additional 12 features\n",
      "process voi 03 | sub 09\n",
      "process voi 03 | sub 10\n",
      "process voi 03 | sub 11\n",
      "process voi 03 | sub 12\n",
      "process voi 03 | sub 13\n",
      "process voi 03 | sub 14\n",
      "X features_num was reduced by additional 9 features\n",
      "process voi 03 | sub 15\n",
      "X features_num was reduced by additional 11 features\n",
      "\u001b[36mdone process voi 02 in 76s\u001b[0m\n"
     ]
    },
    {
     "data": {
      "image/png": "[encoded data removed]",
      "text/plain": [
       "<matplotlib.figure.Figure at 0x1d2c6dd8>"
      ]
     },
     "metadata": {},
     "output_type": "display_data"
    },
    {
     "name": "stdout",
     "output_type": "stream",
     "text": [
      "process voi 04 | sub 01\n",
      "X features_num was reduced by additional 10 features\n",
      "process voi 04 | sub 02\n",
      "X features_num was reduced by additional 5 features\n",
      "process voi 04 | sub 03\n",
      "process voi 04 | sub 04\n",
      "X features_num was reduced by additional 16 features\n",
      "process voi 04 | sub 05\n",
      "X features_num was reduced by additional 18 features\n",
      "process voi 04 | sub 06\n",
      "X features_num was reduced by additional 13 features\n",
      "process voi 04 | sub 07\n",
      "X features_num was reduced by additional 18 features\n",
      "process voi 04 | sub 08\n",
      "process voi 04 | sub 09\n",
      "process voi 04 | sub 10\n",
      "process voi 04 | sub 11\n",
      "X features_num was reduced by additional 10 features\n",
      "process voi 04 | sub 12\n",
      "X features_num was reduced by additional 21 features\n",
      "process voi 04 | sub 13\n",
      "process voi 04 | sub 14\n",
      "process voi 04 | sub 15\n",
      "\u001b[36mdone process voi 03 in 101s\u001b[0m\n"
     ]
    },
    {
     "data": {
      "image/png": "[encoded data removed]",
      "text/plain": [
       "<matplotlib.figure.Figure at 0x1d29c898>"
      ]
     },
     "metadata": {},
     "output_type": "display_data"
    },
    {
     "name": "stdout",
     "output_type": "stream",
     "text": [
      "process voi 05 | sub 01\n",
      "process voi 05 | sub 02\n",
      "X features_num was reduced by additional 5 features\n",
      "process voi 05 | sub 03\n",
      "process voi 05 | sub 04\n",
      "process voi 05 | sub 05\n",
      "process voi 05 | sub 06\n",
      "X features_num was reduced by additional 2 features\n",
      "process voi 05 | sub 07\n",
      "process voi 05 | sub 08\n",
      "X features_num was reduced by additional 1 features\n",
      "process voi 05 | sub 09\n",
      "process voi 05 | sub 10\n",
      "process voi 05 | sub 11\n",
      "process voi 05 | sub 12\n",
      "process voi 05 | sub 13\n",
      "process voi 05 | sub 14\n",
      "process voi 05 | sub 15\n",
      "\u001b[36mdone process voi 04 in 127s\u001b[0m\n"
     ]
    },
    {
     "data": {
      "image/png": "[encoded data removed]",
      "text/plain": [
       "<matplotlib.figure.Figure at 0x1d0c5f98>"
      ]
     },
     "metadata": {},
     "output_type": "display_data"
    },
    {
     "name": "stdout",
     "output_type": "stream",
     "text": [
      "process voi 06 | sub 01\n",
      "process voi 06 | sub 02\n",
      "process voi 06 | sub 03\n",
      "process voi 06 | sub 04\n",
      "process voi 06 | sub 05\n",
      "process voi 06 | sub 06\n",
      "process voi 06 | sub 07\n",
      "process voi 06 | sub 08\n",
      "process voi 06 | sub 09\n",
      "process voi 06 | sub 10\n",
      "process voi 06 | sub 11\n",
      "process voi 06 | sub 12\n",
      "process voi 06 | sub 13\n",
      "process voi 06 | sub 14\n",
      "process voi 06 | sub 15\n",
      "\u001b[36mdone process voi 05 in 156s\u001b[0m\n"
     ]
    },
    {
     "data": {
      "image/png": "[encoded data removed]",
      "text/plain": [
       "<matplotlib.figure.Figure at 0x20b2d550>"
      ]
     },
     "metadata": {},
     "output_type": "display_data"
    },
    {
     "name": "stdout",
     "output_type": "stream",
     "text": [
      "process voi 07 | sub 01\n",
      "X features_num was reduced by additional 10 features\n",
      "process voi 07 | sub 02\n",
      "X features_num was reduced by additional 12 features\n",
      "process voi 07 | sub 03\n",
      "X features_num was reduced by additional 15 features\n",
      "process voi 07 | sub 04\n",
      "process voi 07 | sub 05\n",
      "process voi 07 | sub 06\n",
      "process voi 07 | sub 07\n",
      "X features_num was reduced by additional 6 features\n",
      "process voi 07 | sub 08\n",
      "process voi 07 | sub 09\n",
      "process voi 07 | sub 10\n",
      "process voi 07 | sub 11\n",
      "process voi 07 | sub 12\n",
      "X features_num was reduced by additional 8 features\n",
      "process voi 07 | sub 13\n",
      "process voi 07 | sub 14\n",
      "process voi 07 | sub 15\n",
      "\u001b[36mdone process voi 06 in 182s\u001b[0m\n"
     ]
    },
    {
     "data": {
      "image/png": "[encoded data removed]",
      "text/plain": [
       "<matplotlib.figure.Figure at 0x20b4a320>"
      ]
     },
     "metadata": {},
     "output_type": "display_data"
    },
    {
     "name": "stdout",
     "output_type": "stream",
     "text": [
      "process voi 08 | sub 01\n",
      "X features_num was reduced by additional 4 features\n",
      "process voi 08 | sub 02\n",
      "X features_num was reduced by additional 7 features\n",
      "process voi 08 | sub 03\n",
      "X features_num was reduced by additional 6 features\n",
      "process voi 08 | sub 04\n",
      "process voi 08 | sub 05\n",
      "process voi 08 | sub 06\n",
      "process voi 08 | sub 07\n",
      "process voi 08 | sub 08\n",
      "X features_num was reduced by additional 1 features\n",
      "process voi 08 | sub 09\n",
      "X features_num was reduced by additional 1 features\n",
      "process voi 08 | sub 10\n",
      "process voi 08 | sub 11\n",
      "process voi 08 | sub 12\n",
      "X features_num was reduced by additional 6 features\n",
      "process voi 08 | sub 13\n",
      "process voi 08 | sub 14\n",
      "X features_num was reduced by additional 1 features\n",
      "process voi 08 | sub 15\n",
      "\u001b[36mdone process voi 07 in 208s\u001b[0m\n"
     ]
    },
    {
     "data": {
      "image/png": "[encoded data removed]",
      "text/plain": [
       "<matplotlib.figure.Figure at 0x21ab69e8>"
      ]
     },
     "metadata": {},
     "output_type": "display_data"
    },
    {
     "name": "stdout",
     "output_type": "stream",
     "text": [
      "process voi 09 | sub 01\n",
      "process voi 09 | sub 02\n",
      "X features_num was reduced by additional 4 features\n",
      "process voi 09 | sub 03\n",
      "process voi 09 | sub 04\n",
      "process voi 09 | sub 05\n",
      "process voi 09 | sub 06\n",
      "process voi 09 | sub 07\n",
      "process voi 09 | sub 08\n",
      "X features_num was reduced by additional 2 features\n",
      "process voi 09 | sub 09\n",
      "process voi 09 | sub 10\n",
      "process voi 09 | sub 11\n",
      "process voi 09 | sub 12\n",
      "process voi 09 | sub 13\n",
      "process voi 09 | sub 14\n",
      "process voi 09 | sub 15\n",
      "X features_num was reduced by additional 1 features\n",
      "\u001b[36mdone process voi 08 in 235s\u001b[0m\n"
     ]
    },
    {
     "data": {
      "image/png": "[encoded data removed]",
      "text/plain": [
       "<matplotlib.figure.Figure at 0x2233e438>"
      ]
     },
     "metadata": {},
     "output_type": "display_data"
    },
    {
     "name": "stdout",
     "output_type": "stream",
     "text": [
      "process voi 10 | sub 01\n",
      "process voi 10 | sub 02\n",
      "X features_num was reduced by additional 11 features\n",
      "process voi 10 | sub 03\n",
      "X features_num was reduced by additional 6 features\n",
      "process voi 10 | sub 04\n",
      "X features_num was reduced by additional 4 features\n",
      "process voi 10 | sub 05\n",
      "process voi 10 | sub 06\n",
      "process voi 10 | sub 07\n",
      "X features_num was reduced by additional 15 features\n",
      "process voi 10 | sub 08\n",
      "process voi 10 | sub 09\n",
      "X features_num was reduced by additional 3 features\n",
      "process voi 10 | sub 10\n",
      "X features_num was reduced by additional 5 features\n",
      "process voi 10 | sub 11\n",
      "X features_num was reduced by additional 2 features\n",
      "process voi 10 | sub 12\n",
      "X features_num was reduced by additional 7 features\n",
      "process voi 10 | sub 13\n",
      "X features_num was reduced by additional 10 features\n",
      "process voi 10 | sub 14\n",
      "process voi 10 | sub 15\n",
      "\u001b[36mdone process voi 09 in 261s\u001b[0m\n"
     ]
    },
    {
     "data": {
      "image/png": "[encoded data removed]",
      "text/plain": [
       "<matplotlib.figure.Figure at 0x20534390>"
      ]
     },
     "metadata": {},
     "output_type": "display_data"
    },
    {
     "name": "stdout",
     "output_type": "stream",
     "text": [
      "process voi 11 | sub 01\n",
      "process voi 11 | sub 02\n",
      "X features_num was reduced by additional 3 features\n",
      "process voi 11 | sub 03\n",
      "process voi 11 | sub 04\n",
      "process voi 11 | sub 05\n",
      "process voi 11 | sub 06\n",
      "X features_num was reduced by additional 10 features\n",
      "process voi 11 | sub 07\n",
      "process voi 11 | sub 08\n",
      "X features_num was reduced by additional 7 features\n",
      "process voi 11 | sub 09\n",
      "X features_num was reduced by additional 6 features\n",
      "process voi 11 | sub 10\n",
      "process voi 11 | sub 11\n",
      "X features_num was reduced by additional 8 features\n",
      "process voi 11 | sub 12\n",
      "process voi 11 | sub 13\n",
      "process voi 11 | sub 14\n",
      "X features_num was reduced by additional 5 features\n",
      "process voi 11 | sub 15\n",
      "X features_num was reduced by additional 9 features\n",
      "\u001b[36mdone process voi 10 in 287s\u001b[0m\n"
     ]
    },
    {
     "data": {
      "image/png": "[encoded data removed]",
      "text/plain": [
       "<matplotlib.figure.Figure at 0x21156f98>"
      ]
     },
     "metadata": {},
     "output_type": "display_data"
    },
    {
     "name": "stdout",
     "output_type": "stream",
     "text": [
      "process voi 12 | sub 01\n",
      "process voi 12 | sub 02\n",
      "X features_num was reduced by additional 28 features\n",
      "process voi 12 | sub 03\n",
      "X features_num was reduced by additional 30 features\n",
      "process voi 12 | sub 04\n",
      "process voi 12 | sub 05\n",
      "X features_num was reduced by additional 19 features\n",
      "process voi 12 | sub 06\n",
      "process voi 12 | sub 07\n",
      "X features_num was reduced by additional 27 features\n",
      "process voi 12 | sub 08\n",
      "process voi 12 | sub 09\n",
      "process voi 12 | sub 10\n",
      "X features_num was reduced by additional 27 features\n",
      "process voi 12 | sub 11\n",
      "process voi 12 | sub 12\n",
      "X features_num was reduced by additional 27 features\n",
      "process voi 12 | sub 13\n",
      "X features_num was reduced by additional 27 features\n",
      "process voi 12 | sub 14\n",
      "process voi 12 | sub 15\n",
      "X features_num was reduced by additional 32 features\n",
      "\u001b[36mdone process voi 11 in 312s\u001b[0m\n"
     ]
    },
    {
     "data": {
      "image/png": "[encoded data removed]",
      "text/plain": [
       "<matplotlib.figure.Figure at 0x209ead30>"
      ]
     },
     "metadata": {},
     "output_type": "display_data"
    },
    {
     "name": "stdout",
     "output_type": "stream",
     "text": [
      "process voi 13 | sub 01\n",
      "process voi 13 | sub 02\n",
      "process voi 13 | sub 03\n",
      "process voi 13 | sub 04\n",
      "process voi 13 | sub 05\n",
      "process voi 13 | sub 06\n",
      "process voi 13 | sub 07\n",
      "process voi 13 | sub 08\n",
      "process voi 13 | sub 09\n",
      "process voi 13 | sub 10\n",
      "process voi 13 | sub 11\n",
      "process voi 13 | sub 12\n",
      "process voi 13 | sub 13\n",
      "process voi 13 | sub 14\n",
      "process voi 13 | sub 15\n",
      "\u001b[36mdone process voi 12 in 338s\u001b[0m\n"
     ]
    },
    {
     "data": {
      "image/png": "[encoded data removed]",
      "text/plain": [
       "<matplotlib.figure.Figure at 0x1d7a02e8>"
      ]
     },
     "metadata": {},
     "output_type": "display_data"
    },
    {
     "name": "stdout",
     "output_type": "stream",
     "text": [
      "process voi 14 | sub 01\n",
      "process voi 14 | sub 02\n",
      "process voi 14 | sub 03\n",
      "process voi 14 | sub 04\n",
      "process voi 14 | sub 05\n",
      "process voi 14 | sub 06\n",
      "process voi 14 | sub 07\n",
      "process voi 14 | sub 08\n",
      "process voi 14 | sub 09\n",
      "process voi 14 | sub 10\n",
      "process voi 14 | sub 11\n",
      "process voi 14 | sub 12\n",
      "process voi 14 | sub 13\n",
      "process voi 14 | sub 14\n",
      "process voi 14 | sub 15\n",
      "\u001b[36mdone process voi 13 in 366s\u001b[0m\n"
     ]
    },
    {
     "data": {
      "image/png": "[encoded data removed]",
      "text/plain": [
       "<matplotlib.figure.Figure at 0x20fd8320>"
      ]
     },
     "metadata": {},
     "output_type": "display_data"
    },
    {
     "ename": "IOError",
     "evalue": "[Errno 13] Permission denied: 'results_NMH_multit.csv'",
     "output_type": "error",
     "traceback": [
      "\u001b[1;31m---------------------------------------------------------------------------\u001b[0m",
      "\u001b[1;31mIOError\u001b[0m                                   Traceback (most recent call last)",
      "\u001b[1;32m<ipython-input-2-af3346c80d2d>\u001b[0m in \u001b[0;36m<module>\u001b[1;34m()\u001b[0m\n\u001b[0;32m     53\u001b[0m         \u001b[0msub_pvals\u001b[0m\u001b[1;33m,\u001b[0m \u001b[0mgroup_pval\u001b[0m \u001b[1;33m=\u001b[0m \u001b[0mzip\u001b[0m\u001b[1;33m(\u001b[0m\u001b[1;33m*\u001b[0m\u001b[0mvoi_analysis\u001b[0m\u001b[1;33m(\u001b[0m\u001b[0mvois\u001b[0m\u001b[1;33m,\u001b[0m \u001b[0msubs\u001b[0m\u001b[1;33m)\u001b[0m\u001b[1;33m)\u001b[0m\u001b[1;33m\u001b[0m\u001b[0m\n\u001b[0;32m     54\u001b[0m         \u001b[0mtermination_alert\u001b[0m\u001b[1;33m(\u001b[0m\u001b[1;33m)\u001b[0m\u001b[1;33m\u001b[0m\u001b[0m\n\u001b[1;32m---> 55\u001b[1;33m         \u001b[0msave_as_csv\u001b[0m\u001b[1;33m(\u001b[0m\u001b[1;34m'results_NMH_multit.csv'\u001b[0m\u001b[1;33m,\u001b[0m \u001b[0msub_pvals\u001b[0m\u001b[1;33m)\u001b[0m\u001b[1;33m\u001b[0m\u001b[0m\n\u001b[0m\u001b[0;32m     56\u001b[0m         \u001b[1;32mprint\u001b[0m \u001b[0mgroup_pval\u001b[0m\u001b[1;33m\u001b[0m\u001b[0m\n",
      "\u001b[1;32m<ipython-input-2-af3346c80d2d>\u001b[0m in \u001b[0;36msave_as_csv\u001b[1;34m(filename, var)\u001b[0m\n\u001b[0;32m     23\u001b[0m \u001b[1;33m\u001b[0m\u001b[0m\n\u001b[0;32m     24\u001b[0m \u001b[1;32mdef\u001b[0m \u001b[0msave_as_csv\u001b[0m\u001b[1;33m(\u001b[0m\u001b[0mfilename\u001b[0m\u001b[1;33m,\u001b[0m \u001b[0mvar\u001b[0m\u001b[1;33m)\u001b[0m\u001b[1;33m:\u001b[0m\u001b[1;33m\u001b[0m\u001b[0m\n\u001b[1;32m---> 25\u001b[1;33m     \u001b[1;32mwith\u001b[0m \u001b[0mopen\u001b[0m\u001b[1;33m(\u001b[0m\u001b[0mfilename\u001b[0m\u001b[1;33m,\u001b[0m \u001b[1;34m'w+'\u001b[0m\u001b[1;33m)\u001b[0m \u001b[1;32mas\u001b[0m \u001b[0mresult\u001b[0m\u001b[1;33m:\u001b[0m\u001b[1;33m\u001b[0m\u001b[0m\n\u001b[0m\u001b[0;32m     26\u001b[0m         \u001b[0mwriter\u001b[0m \u001b[1;33m=\u001b[0m \u001b[0mcsv\u001b[0m\u001b[1;33m.\u001b[0m\u001b[0mwriter\u001b[0m\u001b[1;33m(\u001b[0m\u001b[0mresult\u001b[0m\u001b[1;33m,\u001b[0m \u001b[0mdialect\u001b[0m\u001b[1;33m=\u001b[0m\u001b[1;34m'excel'\u001b[0m\u001b[1;33m)\u001b[0m\u001b[1;33m\u001b[0m\u001b[0m\n\u001b[0;32m     27\u001b[0m         \u001b[0mwriter\u001b[0m\u001b[1;33m.\u001b[0m\u001b[0mwriterows\u001b[0m\u001b[1;33m(\u001b[0m\u001b[0mvar\u001b[0m\u001b[1;33m)\u001b[0m\u001b[1;33m\u001b[0m\u001b[0m\n",
      "\u001b[1;31mIOError\u001b[0m: [Errno 13] Permission denied: 'results_NMH_multit.csv'"
     ]
    }
   ],
   "source": [
    "def sub_analysis(voi, subs, sub_data_generator):\n",
    "    for sub in subs:\n",
    "        print(\"process voi {:02.0f} | sub {:02.0f}\".format(voi+1, sub+1))\n",
    "        X, y, _, _, pipe = sub_data_generator.next()\n",
    "        X = prep.convert(pipe, X)\n",
    "        treal = mult.multit_real(X,y)\n",
    "        if np.isnan(treal):\n",
    "            raise Warning(\"treal is nan\")\n",
    "        tshuffle_perms = mult.multit_shuffle(X,y, n_perms=100)\n",
    "        pval = mult.calc_pval(treal, tshuffle_perms)\n",
    "        yield treal, tshuffle_perms, pval\n",
    "\n",
    "def voi_analysis(vois, subs):\n",
    "    for voi in vois:\n",
    "        sub_data_generator = prep.get_sub_data(voi)\n",
    "        treals, tshuffles_perms, sub_pvals = zip(*sub_analysis(voi, subs, sub_data_generator))\n",
    "        print colored (\"done process voi {:02.0f} in {:02.0f}s\".format(voi, time.time()-t), 'cyan')\n",
    "        group_treal = np.mean(treals)\n",
    "        group_tshuffle = mult.tshuffle_bootstrap(tshuffles_perms, n_perms=100) \n",
    "        plot_dist(group_treal, group_tshuffle)\n",
    "        group_pval = mult.calc_pval(group_treal, group_tshuffle)\n",
    "        yield sub_pvals, group_pval\n",
    "\n",
    "def save_as_csv(filename, var):\n",
    "    with open(filename, 'w+') as result:\n",
    "        writer = csv.writer(result, dialect='excel')\n",
    "        writer.writerows(var)\n",
    "\n",
    "def termination_alert():\n",
    "    for i in range(3):\n",
    "        winsound.Beep(1500,250)\n",
    "        time.sleep(0.1)\n",
    "        winsound.Beep(1500,250)\n",
    "        \n",
    "def plot_dist(treal, tshuffle):\n",
    "    plt.hist(tshuffle, 25, alpha=0.75)\n",
    "    plt.plot([treal, treal], [0, 10], 'k-', lw=2)\n",
    "    plt.xlabel('t_stats')\n",
    "    plt.ylabel('Probability')\n",
    "    plt.show()\n",
    "\n",
    "\n",
    "if __name__ == '__main__':\n",
    "    FILE_NAME = 'data2skl_high.mat'\n",
    "    prep = prp.Preprocessing(FILE_NAME)\n",
    "    mult = prp.MultiT()\n",
    "    vois = xrange(prep.voidata.chunks[0]-1)\n",
    "    subs = xrange(len(cfg.Params().sublist))\n",
    "    t = time.time()\n",
    "    if prep.params.collapse_opacities:\n",
    "        pass\n",
    "    else:\n",
    "        sub_pvals, group_pval = zip(*voi_analysis(vois, subs))\n",
    "        termination_alert()\n",
    "        save_as_csv('results_NMH_multit.csv', sub_pvals)\n",
    "        print group_pval"
   ]
  },
  {
   "cell_type": "code",
   "execution_count": null,
   "metadata": {
    "collapsed": true
   },
   "outputs": [],
   "source": []
  }
 ],
 "metadata": {
  "kernelspec": {
   "display_name": "Python 2",
   "language": "python",
   "name": "python2"
  },
  "language_info": {
   "codemirror_mode": {
    "name": "ipython",
    "version": 2
   },
   "file_extension": ".py",
   "mimetype": "text/x-python",
   "name": "python",
   "nbconvert_exporter": "python",
   "pygments_lexer": "ipython2",
   "version": "2.7.11"
  }
 },
 "nbformat": 4,
 "nbformat_minor": 0
}
